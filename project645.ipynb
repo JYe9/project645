{
 "cells": [
  {
   "metadata": {},
   "cell_type": "markdown",
   "source": "Clone the git repository",
   "id": "74c6727ab60b2b45"
  },
  {
   "metadata": {},
   "cell_type": "code",
   "source": "!git clone https://github.com/JYe9/project645.git",
   "id": "a024ed48a2ab3d54",
   "outputs": [],
   "execution_count": null
  },
  {
   "metadata": {},
   "cell_type": "markdown",
   "source": "Install the required packages",
   "id": "be588d2156049691"
  },
  {
   "metadata": {},
   "cell_type": "code",
   "source": "!pip install -r requirements.txt",
   "id": "30af408b094266d5",
   "outputs": [],
   "execution_count": null
  },
  {
   "metadata": {},
   "cell_type": "markdown",
   "source": "",
   "id": "89c59ff0c532492b"
  },
  {
   "metadata": {},
   "cell_type": "code",
   "source": "",
   "id": "18f27dea8d07ba24",
   "outputs": [],
   "execution_count": null
  }
 ],
 "metadata": {
  "kernelspec": {
   "display_name": "Python 3",
   "language": "python",
   "name": "python3"
  },
  "language_info": {
   "codemirror_mode": {
    "name": "ipython",
    "version": 2
   },
   "file_extension": ".py",
   "mimetype": "text/x-python",
   "name": "python",
   "nbconvert_exporter": "python",
   "pygments_lexer": "ipython2",
   "version": "2.7.6"
  }
 },
 "nbformat": 4,
 "nbformat_minor": 5
}
